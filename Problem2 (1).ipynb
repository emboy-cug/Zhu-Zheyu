{
 "cells": [
  {
   "cell_type": "code",
   "execution_count": 28,
   "id": "a47ffd5e-7e86-425d-9812-b35d9dab5614",
   "metadata": {},
   "outputs": [
    {
     "name": "stdout",
     "output_type": "stream",
     "text": [
      "Defaulting to user installation because normal site-packages is not writeable\n",
      "Requirement already satisfied: pip in c:\\users\\33615\\appdata\\roaming\\python\\python312\\site-packages (25.0.1)\n",
      "Note: you may need to restart the kernel to use updated packages.\n"
     ]
    }
   ],
   "source": [
    "pip install --upgrade pip"
   ]
  },
  {
   "cell_type": "code",
   "execution_count": 1,
   "id": "815032f0-2ad5-4e9e-9927-ed60135c10b2",
   "metadata": {
    "scrolled": true
   },
   "outputs": [
    {
     "name": "stdout",
     "output_type": "stream",
     "text": [
      "Defaulting to user installation because normal site-packages is not writeableNote: you may need to restart the kernel to use updated packages.\n",
      "\n",
      "Collecting ucimlrepo\n",
      "  Downloading ucimlrepo-0.0.7-py3-none-any.whl.metadata (5.5 kB)\n",
      "Requirement already satisfied: pandas>=1.0.0 in d:\\software\\conda\\lib\\site-packages (from ucimlrepo) (2.2.2)\n",
      "Requirement already satisfied: certifi>=2020.12.5 in d:\\software\\conda\\lib\\site-packages (from ucimlrepo) (2025.1.31)\n",
      "Requirement already satisfied: numpy>=1.26.0 in d:\\software\\conda\\lib\\site-packages (from pandas>=1.0.0->ucimlrepo) (1.26.4)\n",
      "Requirement already satisfied: python-dateutil>=2.8.2 in d:\\software\\conda\\lib\\site-packages (from pandas>=1.0.0->ucimlrepo) (2.9.0.post0)\n",
      "Requirement already satisfied: pytz>=2020.1 in d:\\software\\conda\\lib\\site-packages (from pandas>=1.0.0->ucimlrepo) (2024.1)\n",
      "Requirement already satisfied: tzdata>=2022.7 in d:\\software\\conda\\lib\\site-packages (from pandas>=1.0.0->ucimlrepo) (2023.3)\n",
      "Requirement already satisfied: six>=1.5 in d:\\software\\conda\\lib\\site-packages (from python-dateutil>=2.8.2->pandas>=1.0.0->ucimlrepo) (1.16.0)\n",
      "Downloading ucimlrepo-0.0.7-py3-none-any.whl (8.0 kB)\n",
      "Installing collected packages: ucimlrepo\n",
      "Successfully installed ucimlrepo-0.0.7\n"
     ]
    }
   ],
   "source": [
    "pip install ucimlrepo"
   ]
  },
  {
   "cell_type": "code",
   "execution_count": 6,
   "id": "5f7e2397-d627-40ae-aa14-70a796965c01",
   "metadata": {},
   "outputs": [],
   "source": [
    "import pandas as pd\n",
    "from sklearn.tree import DecisionTreeClassifier\n",
    "from sklearn.model_selection import train_test_split\n",
    "from sklearn.tree import export_text\n",
    "from ucimlrepo import fetch_ucirepo\n",
    "import numpy as np\n",
    "import matplotlib.pyplot as plt\n",
    "from sklearn.tree import plot_tree"
   ]
  },
  {
   "cell_type": "code",
   "execution_count": 7,
   "id": "383c2ba2-908b-477e-8c5b-3a06453e3188",
   "metadata": {
    "scrolled": true
   },
   "outputs": [
    {
     "name": "stdout",
     "output_type": "stream",
     "text": [
      "{'uci_id': 17, 'name': 'Breast Cancer Wisconsin (Diagnostic)', 'repository_url': 'https://archive.ics.uci.edu/dataset/17/breast+cancer+wisconsin+diagnostic', 'data_url': 'https://archive.ics.uci.edu/static/public/17/data.csv', 'abstract': 'Diagnostic Wisconsin Breast Cancer Database.', 'area': 'Health and Medicine', 'tasks': ['Classification'], 'characteristics': ['Multivariate'], 'num_instances': 569, 'num_features': 30, 'feature_types': ['Real'], 'demographics': [], 'target_col': ['Diagnosis'], 'index_col': ['ID'], 'has_missing_values': 'no', 'missing_values_symbol': None, 'year_of_dataset_creation': 1993, 'last_updated': 'Fri Nov 03 2023', 'dataset_doi': '10.24432/C5DW2B', 'creators': ['William Wolberg', 'Olvi Mangasarian', 'Nick Street', 'W. Street'], 'intro_paper': {'ID': 230, 'type': 'NATIVE', 'title': 'Nuclear feature extraction for breast tumor diagnosis', 'authors': 'W. Street, W. Wolberg, O. Mangasarian', 'venue': 'Electronic imaging', 'year': 1993, 'journal': None, 'DOI': '10.1117/12.148698', 'URL': 'https://www.semanticscholar.org/paper/53f0fbb425bc14468eb3bf96b2e1d41ba8087f36', 'sha': None, 'corpus': None, 'arxiv': None, 'mag': None, 'acl': None, 'pmid': None, 'pmcid': None}, 'additional_info': {'summary': 'Features are computed from a digitized image of a fine needle aspirate (FNA) of a breast mass.  They describe characteristics of the cell nuclei present in the image. A few of the images can be found at http://www.cs.wisc.edu/~street/images/\\r\\n\\r\\nSeparating plane described above was obtained using Multisurface Method-Tree (MSM-T) [K. P. Bennett, \"Decision Tree Construction Via Linear Programming.\" Proceedings of the 4th Midwest Artificial Intelligence and Cognitive Science Society, pp. 97-101, 1992], a classification method which uses linear programming to construct a decision tree.  Relevant features were selected using an exhaustive search in the space of 1-4 features and 1-3 separating planes.\\r\\n\\r\\nThe actual linear program used to obtain the separating plane in the 3-dimensional space is that described in: [K. P. Bennett and O. L. Mangasarian: \"Robust Linear Programming Discrimination of Two Linearly Inseparable Sets\", Optimization Methods and Software 1, 1992, 23-34].\\r\\n\\r\\nThis database is also available through the UW CS ftp server:\\r\\nftp ftp.cs.wisc.edu\\r\\ncd math-prog/cpo-dataset/machine-learn/WDBC/', 'purpose': None, 'funded_by': None, 'instances_represent': None, 'recommended_data_splits': None, 'sensitive_data': None, 'preprocessing_description': None, 'variable_info': '1) ID number\\r\\n2) Diagnosis (M = malignant, B = benign)\\r\\n3-32)\\r\\n\\r\\nTen real-valued features are computed for each cell nucleus:\\r\\n\\r\\n\\ta) radius (mean of distances from center to points on the perimeter)\\r\\n\\tb) texture (standard deviation of gray-scale values)\\r\\n\\tc) perimeter\\r\\n\\td) area\\r\\n\\te) smoothness (local variation in radius lengths)\\r\\n\\tf) compactness (perimeter^2 / area - 1.0)\\r\\n\\tg) concavity (severity of concave portions of the contour)\\r\\n\\th) concave points (number of concave portions of the contour)\\r\\n\\ti) symmetry \\r\\n\\tj) fractal dimension (\"coastline approximation\" - 1)', 'citation': None}}\n",
      "                  name     role         type demographic description units  \\\n",
      "0                   ID       ID  Categorical        None        None  None   \n",
      "1            Diagnosis   Target  Categorical        None        None  None   \n",
      "2              radius1  Feature   Continuous        None        None  None   \n",
      "3             texture1  Feature   Continuous        None        None  None   \n",
      "4           perimeter1  Feature   Continuous        None        None  None   \n",
      "5                area1  Feature   Continuous        None        None  None   \n",
      "6          smoothness1  Feature   Continuous        None        None  None   \n",
      "7         compactness1  Feature   Continuous        None        None  None   \n",
      "8           concavity1  Feature   Continuous        None        None  None   \n",
      "9      concave_points1  Feature   Continuous        None        None  None   \n",
      "10           symmetry1  Feature   Continuous        None        None  None   \n",
      "11  fractal_dimension1  Feature   Continuous        None        None  None   \n",
      "12             radius2  Feature   Continuous        None        None  None   \n",
      "13            texture2  Feature   Continuous        None        None  None   \n",
      "14          perimeter2  Feature   Continuous        None        None  None   \n",
      "15               area2  Feature   Continuous        None        None  None   \n",
      "16         smoothness2  Feature   Continuous        None        None  None   \n",
      "17        compactness2  Feature   Continuous        None        None  None   \n",
      "18          concavity2  Feature   Continuous        None        None  None   \n",
      "19     concave_points2  Feature   Continuous        None        None  None   \n",
      "20           symmetry2  Feature   Continuous        None        None  None   \n",
      "21  fractal_dimension2  Feature   Continuous        None        None  None   \n",
      "22             radius3  Feature   Continuous        None        None  None   \n",
      "23            texture3  Feature   Continuous        None        None  None   \n",
      "24          perimeter3  Feature   Continuous        None        None  None   \n",
      "25               area3  Feature   Continuous        None        None  None   \n",
      "26         smoothness3  Feature   Continuous        None        None  None   \n",
      "27        compactness3  Feature   Continuous        None        None  None   \n",
      "28          concavity3  Feature   Continuous        None        None  None   \n",
      "29     concave_points3  Feature   Continuous        None        None  None   \n",
      "30           symmetry3  Feature   Continuous        None        None  None   \n",
      "31  fractal_dimension3  Feature   Continuous        None        None  None   \n",
      "\n",
      "   missing_values  \n",
      "0              no  \n",
      "1              no  \n",
      "2              no  \n",
      "3              no  \n",
      "4              no  \n",
      "5              no  \n",
      "6              no  \n",
      "7              no  \n",
      "8              no  \n",
      "9              no  \n",
      "10             no  \n",
      "11             no  \n",
      "12             no  \n",
      "13             no  \n",
      "14             no  \n",
      "15             no  \n",
      "16             no  \n",
      "17             no  \n",
      "18             no  \n",
      "19             no  \n",
      "20             no  \n",
      "21             no  \n",
      "22             no  \n",
      "23             no  \n",
      "24             no  \n",
      "25             no  \n",
      "26             no  \n",
      "27             no  \n",
      "28             no  \n",
      "29             no  \n",
      "30             no  \n",
      "31             no  \n"
     ]
    }
   ],
   "source": [
    "\n",
    "breast_cancer_wisconsin_diagnostic = fetch_ucirepo(id=17)\n",
    "\n",
    "X = breast_cancer_wisconsin_diagnostic.data.features\n",
    "y = breast_cancer_wisconsin_diagnostic.data.targets\n",
    "print(breast_cancer_wisconsin_diagnostic.metadata)\n",
    "print(breast_cancer_wisconsin_diagnostic.variables)\n",
    "\n"
   ]
  },
  {
   "cell_type": "code",
   "execution_count": 8,
   "id": "7acfad75-3db9-4eb1-8f64-507dedfe820c",
   "metadata": {},
   "outputs": [
    {
     "name": "stdout",
     "output_type": "stream",
     "text": [
      "Column Index and Name:\n",
      "Index: 0, Column Name: radius1\n",
      "Index: 1, Column Name: texture1\n",
      "Index: 2, Column Name: perimeter1\n",
      "Index: 3, Column Name: area1\n",
      "Index: 4, Column Name: smoothness1\n",
      "Index: 5, Column Name: compactness1\n",
      "Index: 6, Column Name: concavity1\n",
      "Index: 7, Column Name: concave_points1\n",
      "Index: 8, Column Name: symmetry1\n",
      "Index: 9, Column Name: fractal_dimension1\n",
      "Index: 10, Column Name: radius2\n",
      "Index: 11, Column Name: texture2\n",
      "Index: 12, Column Name: perimeter2\n",
      "Index: 13, Column Name: area2\n",
      "Index: 14, Column Name: smoothness2\n",
      "Index: 15, Column Name: compactness2\n",
      "Index: 16, Column Name: concavity2\n",
      "Index: 17, Column Name: concave_points2\n",
      "Index: 18, Column Name: symmetry2\n",
      "Index: 19, Column Name: fractal_dimension2\n",
      "Index: 20, Column Name: radius3\n",
      "Index: 21, Column Name: texture3\n",
      "Index: 22, Column Name: perimeter3\n",
      "Index: 23, Column Name: area3\n",
      "Index: 24, Column Name: smoothness3\n",
      "Index: 25, Column Name: compactness3\n",
      "Index: 26, Column Name: concavity3\n",
      "Index: 27, Column Name: concave_points3\n",
      "Index: 28, Column Name: symmetry3\n",
      "Index: 29, Column Name: fractal_dimension3\n"
     ]
    }
   ],
   "source": [
    "# 打印每一列的索引和列名\n",
    "print(\"Column Index and Name:\")\n",
    "for idx, column_name in enumerate(X.columns):\n",
    "    print(f\"Index: {idx}, Column Name: {column_name}\")\n"
   ]
  },
  {
   "cell_type": "code",
   "execution_count": 9,
   "id": "22028cc2-a976-4eaf-b6d1-3cdd81a1bbd7",
   "metadata": {},
   "outputs": [
    {
     "name": "stdout",
     "output_type": "stream",
     "text": [
      "   radius1  texture1  perimeter1   area1  smoothness1  compactness1  \\\n",
      "0    17.99     10.38      122.80  1001.0      0.11840       0.27760   \n",
      "1    20.57     17.77      132.90  1326.0      0.08474       0.07864   \n",
      "2    19.69     21.25      130.00  1203.0      0.10960       0.15990   \n",
      "3    11.42     20.38       77.58   386.1      0.14250       0.28390   \n",
      "4    20.29     14.34      135.10  1297.0      0.10030       0.13280   \n",
      "\n",
      "   concavity1  concave_points1  symmetry1  fractal_dimension1  ...  radius3  \\\n",
      "0      0.3001          0.14710     0.2419             0.07871  ...    25.38   \n",
      "1      0.0869          0.07017     0.1812             0.05667  ...    24.99   \n",
      "2      0.1974          0.12790     0.2069             0.05999  ...    23.57   \n",
      "3      0.2414          0.10520     0.2597             0.09744  ...    14.91   \n",
      "4      0.1980          0.10430     0.1809             0.05883  ...    22.54   \n",
      "\n",
      "   texture3  perimeter3   area3  smoothness3  compactness3  concavity3  \\\n",
      "0     17.33      184.60  2019.0       0.1622        0.6656      0.7119   \n",
      "1     23.41      158.80  1956.0       0.1238        0.1866      0.2416   \n",
      "2     25.53      152.50  1709.0       0.1444        0.4245      0.4504   \n",
      "3     26.50       98.87   567.7       0.2098        0.8663      0.6869   \n",
      "4     16.67      152.20  1575.0       0.1374        0.2050      0.4000   \n",
      "\n",
      "   concave_points3  symmetry3  fractal_dimension3  \n",
      "0           0.2654     0.4601             0.11890  \n",
      "1           0.1860     0.2750             0.08902  \n",
      "2           0.2430     0.3613             0.08758  \n",
      "3           0.2575     0.6638             0.17300  \n",
      "4           0.1625     0.2364             0.07678  \n",
      "\n",
      "[5 rows x 30 columns]\n",
      "  Diagnosis\n",
      "0         M\n",
      "1         M\n",
      "2         M\n",
      "3         M\n",
      "4         M\n",
      "5         M\n",
      "6         M\n",
      "7         M\n",
      "8         M\n",
      "9         M\n"
     ]
    }
   ],
   "source": [
    "print(X.head())\n",
    "print(y[:10])  "
   ]
  },
  {
   "cell_type": "code",
   "execution_count": 10,
   "id": "b02a9c06-23b3-4d30-b1db-743877ef51de",
   "metadata": {},
   "outputs": [
    {
     "name": "stdout",
     "output_type": "stream",
     "text": [
      "Training data shape: (455, 30)\n",
      "Test data shape: (114, 30)\n"
     ]
    }
   ],
   "source": [
    "X_train, X_test, y_train, y_test = train_test_split(X, y, test_size=0.2, random_state=42)\n",
    "\n",
    "print(f\"Training data shape: {X_train.shape}\")\n",
    "print(f\"Test data shape: {X_test.shape}\")\n"
   ]
  },
  {
   "cell_type": "code",
   "execution_count": 11,
   "id": "2932b0f2-3ee6-4e22-a5cf-1a0f6a300859",
   "metadata": {},
   "outputs": [
    {
     "name": "stdout",
     "output_type": "stream",
     "text": [
      "Training Accuracy: 0.9296703297\n"
     ]
    }
   ],
   "source": [
    "clf = DecisionTreeClassifier(\n",
    "    criterion='gini', \n",
    "    min_samples_leaf=2,  \n",
    "    min_samples_split=5,  \n",
    "    max_depth=2, \n",
    "    random_state=42\n",
    ")\n",
    "\n",
    "clf.fit(X_train, y_train)\n",
    "\n",
    "accuracy = clf.score(X_train, y_train)\n",
    "print(f\"Training Accuracy: {accuracy:.10f}\")\n",
    "\n"
   ]
  },
  {
   "cell_type": "code",
   "execution_count": 12,
   "id": "3dc2caae-501b-4460-9b88-d37ab4c1e483",
   "metadata": {},
   "outputs": [
    {
     "name": "stdout",
     "output_type": "stream",
     "text": [
      "|--- concave_points1 <= 0.05\n",
      "|   |--- radius3 <= 16.83\n",
      "|   |   |--- class: B\n",
      "|   |--- radius3 >  16.83\n",
      "|   |   |--- class: M\n",
      "|--- concave_points1 >  0.05\n",
      "|   |--- concave_points3 <= 0.15\n",
      "|   |   |--- class: B\n",
      "|   |--- concave_points3 >  0.15\n",
      "|   |   |--- class: M\n",
      "\n"
     ]
    }
   ],
   "source": [
    "tree = export_text(clf, feature_names=list(X.columns))\n",
    "print(tree)"
   ]
  },
  {
   "cell_type": "code",
   "execution_count": 118,
   "id": "383346ed-334a-4eca-99fe-0aeafe95a93e",
   "metadata": {},
   "outputs": [
    {
     "name": "stdout",
     "output_type": "stream",
     "text": [
      "First Split Feature: concave_points1\n",
      "Decision Boundary Value for First Split: 0.05127999931573868\n"
     ]
    }
   ],
   "source": [
    "tree = clf.tree_\n",
    "features = X.columns\n",
    "\n",
    "first_split_index = tree.feature[0]\n",
    "first_split_name = features[first_split_index]\n",
    "first_split_value = tree.threshold[0]\n",
    "\n",
    "print(f\"First Split Feature: {first_split_name}\")\n",
    "print(f\"Decision Boundary Value for First Split: {first_split_value}\")\n"
   ]
  },
  {
   "cell_type": "code",
   "execution_count": 194,
   "id": "1d769f7e-5c9c-4519-a9a8-b166ed04ee89",
   "metadata": {},
   "outputs": [],
   "source": [
    "# caculating gini\n",
    "def gini(y):\n",
    "    num = np.unique(y)\n",
    "    gini = 1 - sum((np.sum(y == c) / len(y))**2 for c in num)\n",
    "    return gini\n",
    "\n",
    "# caculating entropy\n",
    "def entropy(y):\n",
    "    num = np.unique(y)\n",
    "    entropy_value = -sum((np.sum(y == c) / len(y)) * np.log2(np.sum(y == c) / len(y)) for c in num)\n",
    "    return entropy_value\n",
    "\n",
    "# caculating misclass\n",
    "def misclassific_error(y):\n",
    "    y = y.to_numpy() \n",
    "    num = np.unique(y)\n",
    "    classes = [np.sum(y == c) for c in num]\n",
    "    return 1 - max(classes) / len(y)\n"
   ]
  },
  {
   "cell_type": "code",
   "execution_count": 196,
   "id": "75eed812-dd8e-4607-aa68-8f1fdedd89b4",
   "metadata": {},
   "outputs": [],
   "source": [
    "split_column1 = clf.feature_importances_.argmax() \n",
    "split_value1 = clf.tree_.threshold[0]  \n",
    "\n",
    "# caculate the aiming of the num of left and right\n",
    "left_ind = X_train.iloc[:, split_column1] <= split_value1\n",
    "right_ind = X_train.iloc[:, split_column1] > split_value1\n",
    "\n",
    "left_y = y_train[left_ind]\n",
    "right_y = y_train[right_ind]"
   ]
  },
  {
   "cell_type": "code",
   "execution_count": 198,
   "id": "7440d3a5-dac9-4627-bbf1-7e825ac183d5",
   "metadata": {},
   "outputs": [
    {
     "name": "stderr",
     "output_type": "stream",
     "text": [
      "D:\\software\\conda\\Lib\\site-packages\\numpy\\core\\fromnumeric.py:86: FutureWarning: The behavior of DataFrame.sum with axis=None is deprecated, in a future version this will reduce over both axes and return a scalar. To retain the old behavior, pass axis=0 (or do not pass axis)\n",
      "  return reduction(axis=axis, out=out, **passkwargs)\n"
     ]
    }
   ],
   "source": [
    "# the whole num of gini entropy and mis_error\n",
    "left_gini = gini(left_y)\n",
    "right_gini = gini(right_y)\n",
    "left_entropy = entropy(left_y)\n",
    "right_entropy = entropy(right_y)\n",
    "left_misclass = misclassific_error(left_y)\n",
    "right_misclass = misclassific_error(right_y)"
   ]
  },
  {
   "cell_type": "code",
   "execution_count": 200,
   "id": "c317177c-6a2f-436c-83a1-fc71c5a98224",
   "metadata": {},
   "outputs": [
    {
     "name": "stderr",
     "output_type": "stream",
     "text": [
      "D:\\software\\conda\\Lib\\site-packages\\numpy\\core\\fromnumeric.py:86: FutureWarning: The behavior of DataFrame.sum with axis=None is deprecated, in a future version this will reduce over both axes and return a scalar. To retain the old behavior, pass axis=0 (or do not pass axis)\n",
      "  return reduction(axis=axis, out=out, **passkwargs)\n"
     ]
    }
   ],
   "source": [
    "#the increasing of information\n",
    "gini_acc = gini(y_train)\n",
    "entropy_acc = entropy(y_train)\n",
    "misclass_acc = misclassific_error(y_train)\n",
    "\n",
    "weighted_left_gini = len(left_y) / len(y_train) * left_gini\n",
    "weighted_right_gini = len(right_y) / len(y_train) * right_gini\n",
    "weighted_left_entropy = len(left_y) / len(y_train) * left_entropy\n",
    "weighted_right_entropy = len(right_y) / len(y_train) * right_entropy\n",
    "weighted_left_misclass = len(left_y) / len(y_train) * left_misclass\n",
    "weighted_right_misclass = len(right_y) / len(y_train) * right_misclass\n",
    "\n",
    "\n"
   ]
  },
  {
   "cell_type": "code",
   "execution_count": 202,
   "id": "726e480c-d63c-49b8-9305-2b83b806a471",
   "metadata": {},
   "outputs": [],
   "source": [
    "weighted_gini=weighted_left_gini + weighted_right_gini\n",
    "weighted_entropy=weighted_left_entropy + weighted_right_entropy\n",
    "weighted_misclass=weighted_left_misclass + weighted_right_misclass"
   ]
  },
  {
   "cell_type": "code",
   "execution_count": 204,
   "id": "56711e17-1fd0-4d53-b33e-20f9cd8b4954",
   "metadata": {},
   "outputs": [
    {
     "name": "stderr",
     "output_type": "stream",
     "text": [
      "C:\\Users\\33615\\AppData\\Local\\Temp\\ipykernel_89428\\719194449.py:3: FutureWarning: Calling float on a single element Series is deprecated and will raise a TypeError in the future. Use float(ser.iloc[0]) instead\n",
      "  'Left Child': [float(left_gini), float(left_entropy), left_misclass],\n",
      "C:\\Users\\33615\\AppData\\Local\\Temp\\ipykernel_89428\\719194449.py:4: FutureWarning: Calling float on a single element Series is deprecated and will raise a TypeError in the future. Use float(ser.iloc[0]) instead\n",
      "  'Right Child': [float(right_gini), float(right_entropy), right_misclass],\n",
      "C:\\Users\\33615\\AppData\\Local\\Temp\\ipykernel_89428\\719194449.py:5: FutureWarning: Calling float on a single element Series is deprecated and will raise a TypeError in the future. Use float(ser.iloc[0]) instead\n",
      "  'Weighted Child': [float(weighted_gini), float(weighted_entropy), weighted_misclass],\n"
     ]
    },
    {
     "data": {
      "text/html": [
       "<div>\n",
       "<style scoped>\n",
       "    .dataframe tbody tr th:only-of-type {\n",
       "        vertical-align: middle;\n",
       "    }\n",
       "\n",
       "    .dataframe tbody tr th {\n",
       "        vertical-align: top;\n",
       "    }\n",
       "\n",
       "    .dataframe thead th {\n",
       "        text-align: right;\n",
       "    }\n",
       "</style>\n",
       "<table border=\"1\" class=\"dataframe\">\n",
       "  <thead>\n",
       "    <tr style=\"text-align: right;\">\n",
       "      <th></th>\n",
       "      <th>Metric</th>\n",
       "      <th>Left Child</th>\n",
       "      <th>Right Child</th>\n",
       "      <th>Weighted Child</th>\n",
       "    </tr>\n",
       "  </thead>\n",
       "  <tbody>\n",
       "    <tr>\n",
       "      <th>0</th>\n",
       "      <td>Gini</td>\n",
       "      <td>0.107036869372768</td>\n",
       "      <td>0.204483945337298</td>\n",
       "      <td>0.144088175179062</td>\n",
       "    </tr>\n",
       "    <tr>\n",
       "      <th>1</th>\n",
       "      <td>Entropy</td>\n",
       "      <td>0.314355863592707</td>\n",
       "      <td>0.516599893360869</td>\n",
       "      <td>0.391253044141920</td>\n",
       "    </tr>\n",
       "    <tr>\n",
       "      <th>2</th>\n",
       "      <td>Misclassification Error</td>\n",
       "      <td>0.056737588652482</td>\n",
       "      <td>0.115606936416185</td>\n",
       "      <td>0.079120879120879</td>\n",
       "    </tr>\n",
       "  </tbody>\n",
       "</table>\n",
       "</div>"
      ],
      "text/plain": [
       "                    Metric        Left Child       Right Child  \\\n",
       "0                     Gini 0.107036869372768 0.204483945337298   \n",
       "1                  Entropy 0.314355863592707 0.516599893360869   \n",
       "2  Misclassification Error 0.056737588652482 0.115606936416185   \n",
       "\n",
       "     Weighted Child  \n",
       "0 0.144088175179062  \n",
       "1 0.391253044141920  \n",
       "2 0.079120879120879  "
      ]
     },
     "execution_count": 204,
     "metadata": {},
     "output_type": "execute_result"
    }
   ],
   "source": [
    "result_df = pd.DataFrame({\n",
    "    'Metric': ['Gini', 'Entropy', 'Misclassification Error'],\n",
    "    'Left Child': [float(left_gini), float(left_entropy), left_misclass],\n",
    "    'Right Child': [float(right_gini), float(right_entropy), right_misclass],\n",
    "    'Weighted Child': [float(weighted_gini), float(weighted_entropy), weighted_misclass],\n",
    "    \n",
    "    \n",
    "})\n",
    "pd.set_option('display.float_format', '{:.15f}'.format)\n",
    "\n",
    "result_df"
   ]
  },
  {
   "cell_type": "code",
   "execution_count": 206,
   "id": "c355e6d9-5ca4-4002-a224-65ce5e4e77ba",
   "metadata": {},
   "outputs": [],
   "source": [
    "gini_gain = gini_acc - weighted_gini\n",
    "entropy_gain = entropy_acc - weighted_entropy\n",
    "misclass_gain = misclass_acc - weighted_misclass"
   ]
  },
  {
   "cell_type": "code",
   "execution_count": 208,
   "id": "6909b814-52e4-4302-9cc5-3227d1f53d2f",
   "metadata": {},
   "outputs": [
    {
     "name": "stderr",
     "output_type": "stream",
     "text": [
      "C:\\Users\\33615\\AppData\\Local\\Temp\\ipykernel_89428\\14340117.py:3: FutureWarning: Calling float on a single element Series is deprecated and will raise a TypeError in the future. Use float(ser.iloc[0]) instead\n",
      "  'Gain': [float(gini_gain), float(entropy_gain), float(misclass_gain)]  # 确保是 float 类型\n"
     ]
    },
    {
     "data": {
      "text/html": [
       "<div>\n",
       "<style scoped>\n",
       "    .dataframe tbody tr th:only-of-type {\n",
       "        vertical-align: middle;\n",
       "    }\n",
       "\n",
       "    .dataframe tbody tr th {\n",
       "        vertical-align: top;\n",
       "    }\n",
       "\n",
       "    .dataframe thead th {\n",
       "        text-align: right;\n",
       "    }\n",
       "</style>\n",
       "<table border=\"1\" class=\"dataframe\">\n",
       "  <thead>\n",
       "    <tr style=\"text-align: right;\">\n",
       "      <th></th>\n",
       "      <th>Metric</th>\n",
       "      <th>Gain</th>\n",
       "    </tr>\n",
       "  </thead>\n",
       "  <tbody>\n",
       "    <tr>\n",
       "      <th>0</th>\n",
       "      <td>Gini Information Gain</td>\n",
       "      <td>0.3228506003311422123402963</td>\n",
       "    </tr>\n",
       "    <tr>\n",
       "      <th>1</th>\n",
       "      <td>Entropy Information Gain</td>\n",
       "      <td>0.5605096314929107759184035</td>\n",
       "    </tr>\n",
       "    <tr>\n",
       "      <th>2</th>\n",
       "      <td>Misclassification Error Information Gain</td>\n",
       "      <td>0.2923076923076923239186442</td>\n",
       "    </tr>\n",
       "  </tbody>\n",
       "</table>\n",
       "</div>"
      ],
      "text/plain": [
       "                                     Metric                        Gain\n",
       "0                     Gini Information Gain 0.3228506003311422123402963\n",
       "1                  Entropy Information Gain 0.5605096314929107759184035\n",
       "2  Misclassification Error Information Gain 0.2923076923076923239186442"
      ]
     },
     "execution_count": 208,
     "metadata": {},
     "output_type": "execute_result"
    }
   ],
   "source": [
    "result_df_gain = pd.DataFrame({\n",
    "    'Metric': ['Gini Information Gain', 'Entropy Information Gain', 'Misclassification Error Information Gain'],\n",
    "    'Gain': [float(gini_gain), float(entropy_gain), float(misclass_gain)] \n",
    "})\n",
    "\n",
    "pd.set_option('display.float_format', '{:.25f}'.format)\n",
    "result_df_gain\n"
   ]
  },
  {
   "cell_type": "code",
   "execution_count": null,
   "id": "217ff138-2915-4c6a-b100-dca46aaa6c5c",
   "metadata": {},
   "outputs": [],
   "source": []
  }
 ],
 "metadata": {
  "kernelspec": {
   "display_name": "Python 3 (ipykernel)",
   "language": "python",
   "name": "python3"
  },
  "language_info": {
   "codemirror_mode": {
    "name": "ipython",
    "version": 3
   },
   "file_extension": ".py",
   "mimetype": "text/x-python",
   "name": "python",
   "nbconvert_exporter": "python",
   "pygments_lexer": "ipython3",
   "version": "3.11.4"
  }
 },
 "nbformat": 4,
 "nbformat_minor": 5
}
